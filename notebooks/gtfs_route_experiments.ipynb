{
 "cells": [
  {
   "cell_type": "markdown",
   "metadata": {},
   "source": [
    "# Experimenting the use of GTFS package"
   ]
  },
  {
   "cell_type": "code",
   "execution_count": 71,
   "metadata": {},
   "outputs": [],
   "source": [
    "import numpy as np\n",
    "import pandas as pd\n",
    "import geopandas as gpd\n",
    "import matplotlib.pyplot as plt\n",
    "from shapely.geometry import LineString\n",
    "from io import BytesIO\n",
    "from zipfile import ZipFile"
   ]
  },
  {
   "cell_type": "markdown",
   "metadata": {},
   "source": [
    "## Opening data from local computer"
   ]
  },
  {
   "cell_type": "code",
   "execution_count": 22,
   "metadata": {},
   "outputs": [
    {
     "data": {
      "text/html": [
       "<div>\n",
       "<style scoped>\n",
       "    .dataframe tbody tr th:only-of-type {\n",
       "        vertical-align: middle;\n",
       "    }\n",
       "\n",
       "    .dataframe tbody tr th {\n",
       "        vertical-align: top;\n",
       "    }\n",
       "\n",
       "    .dataframe thead th {\n",
       "        text-align: right;\n",
       "    }\n",
       "</style>\n",
       "<table border=\"1\" class=\"dataframe\">\n",
       "  <thead>\n",
       "    <tr style=\"text-align: right;\">\n",
       "      <th></th>\n",
       "      <th>shape_id</th>\n",
       "      <th>shape_pt_lat</th>\n",
       "      <th>shape_pt_lon</th>\n",
       "      <th>shape_pt_sequence</th>\n",
       "      <th>shape_dist_traveled</th>\n",
       "    </tr>\n",
       "  </thead>\n",
       "  <tbody>\n",
       "    <tr>\n",
       "      <th>0</th>\n",
       "      <td>2550_20200408_1</td>\n",
       "      <td>60.209787</td>\n",
       "      <td>25.077401</td>\n",
       "      <td>1</td>\n",
       "      <td>0.000</td>\n",
       "    </tr>\n",
       "    <tr>\n",
       "      <th>1</th>\n",
       "      <td>2550_20200408_1</td>\n",
       "      <td>60.209630</td>\n",
       "      <td>25.076818</td>\n",
       "      <td>2</td>\n",
       "      <td>0.036</td>\n",
       "    </tr>\n",
       "    <tr>\n",
       "      <th>2</th>\n",
       "      <td>2550_20200408_1</td>\n",
       "      <td>60.209586</td>\n",
       "      <td>25.076673</td>\n",
       "      <td>3</td>\n",
       "      <td>0.046</td>\n",
       "    </tr>\n",
       "    <tr>\n",
       "      <th>3</th>\n",
       "      <td>2550_20200408_1</td>\n",
       "      <td>60.209482</td>\n",
       "      <td>25.076290</td>\n",
       "      <td>4</td>\n",
       "      <td>0.070</td>\n",
       "    </tr>\n",
       "    <tr>\n",
       "      <th>4</th>\n",
       "      <td>2550_20200408_1</td>\n",
       "      <td>60.209403</td>\n",
       "      <td>25.076035</td>\n",
       "      <td>5</td>\n",
       "      <td>0.086</td>\n",
       "    </tr>\n",
       "  </tbody>\n",
       "</table>\n",
       "</div>"
      ],
      "text/plain": [
       "          shape_id  shape_pt_lat  shape_pt_lon  shape_pt_sequence  \\\n",
       "0  2550_20200408_1     60.209787     25.077401                  1   \n",
       "1  2550_20200408_1     60.209630     25.076818                  2   \n",
       "2  2550_20200408_1     60.209586     25.076673                  3   \n",
       "3  2550_20200408_1     60.209482     25.076290                  4   \n",
       "4  2550_20200408_1     60.209403     25.076035                  5   \n",
       "\n",
       "   shape_dist_traveled  \n",
       "0                0.000  \n",
       "1                0.036  \n",
       "2                0.046  \n",
       "3                0.070  \n",
       "4                0.086  "
      ]
     },
     "execution_count": 22,
     "metadata": {},
     "output_type": "execute_result"
    }
   ],
   "source": [
    "df = pd.read_table('shape2.txt', delimiter=',')\n",
    "df.head()"
   ]
  },
  {
   "cell_type": "code",
   "execution_count": 23,
   "metadata": {},
   "outputs": [
    {
     "data": {
      "text/html": [
       "<div>\n",
       "<style scoped>\n",
       "    .dataframe tbody tr th:only-of-type {\n",
       "        vertical-align: middle;\n",
       "    }\n",
       "\n",
       "    .dataframe tbody tr th {\n",
       "        vertical-align: top;\n",
       "    }\n",
       "\n",
       "    .dataframe thead th {\n",
       "        text-align: right;\n",
       "    }\n",
       "</style>\n",
       "<table border=\"1\" class=\"dataframe\">\n",
       "  <thead>\n",
       "    <tr style=\"text-align: right;\">\n",
       "      <th></th>\n",
       "      <th>shape_id</th>\n",
       "      <th>shape_pt_lat</th>\n",
       "      <th>shape_pt_lon</th>\n",
       "      <th>shape_pt_sequence</th>\n",
       "      <th>shape_dist_traveled</th>\n",
       "      <th>geometry</th>\n",
       "    </tr>\n",
       "  </thead>\n",
       "  <tbody>\n",
       "    <tr>\n",
       "      <th>0</th>\n",
       "      <td>2550_20200408_1</td>\n",
       "      <td>60.209787</td>\n",
       "      <td>25.077401</td>\n",
       "      <td>1</td>\n",
       "      <td>0.000</td>\n",
       "      <td>POINT (60.20979 25.07740)</td>\n",
       "    </tr>\n",
       "    <tr>\n",
       "      <th>1</th>\n",
       "      <td>2550_20200408_1</td>\n",
       "      <td>60.209630</td>\n",
       "      <td>25.076818</td>\n",
       "      <td>2</td>\n",
       "      <td>0.036</td>\n",
       "      <td>POINT (60.20963 25.07682)</td>\n",
       "    </tr>\n",
       "    <tr>\n",
       "      <th>2</th>\n",
       "      <td>2550_20200408_1</td>\n",
       "      <td>60.209586</td>\n",
       "      <td>25.076673</td>\n",
       "      <td>3</td>\n",
       "      <td>0.046</td>\n",
       "      <td>POINT (60.20959 25.07667)</td>\n",
       "    </tr>\n",
       "    <tr>\n",
       "      <th>3</th>\n",
       "      <td>2550_20200408_1</td>\n",
       "      <td>60.209482</td>\n",
       "      <td>25.076290</td>\n",
       "      <td>4</td>\n",
       "      <td>0.070</td>\n",
       "      <td>POINT (60.20948 25.07629)</td>\n",
       "    </tr>\n",
       "    <tr>\n",
       "      <th>4</th>\n",
       "      <td>2550_20200408_1</td>\n",
       "      <td>60.209403</td>\n",
       "      <td>25.076035</td>\n",
       "      <td>5</td>\n",
       "      <td>0.086</td>\n",
       "      <td>POINT (60.20940 25.07604)</td>\n",
       "    </tr>\n",
       "  </tbody>\n",
       "</table>\n",
       "</div>"
      ],
      "text/plain": [
       "          shape_id  shape_pt_lat  shape_pt_lon  shape_pt_sequence  \\\n",
       "0  2550_20200408_1     60.209787     25.077401                  1   \n",
       "1  2550_20200408_1     60.209630     25.076818                  2   \n",
       "2  2550_20200408_1     60.209586     25.076673                  3   \n",
       "3  2550_20200408_1     60.209482     25.076290                  4   \n",
       "4  2550_20200408_1     60.209403     25.076035                  5   \n",
       "\n",
       "   shape_dist_traveled                   geometry  \n",
       "0                0.000  POINT (60.20979 25.07740)  \n",
       "1                0.036  POINT (60.20963 25.07682)  \n",
       "2                0.046  POINT (60.20959 25.07667)  \n",
       "3                0.070  POINT (60.20948 25.07629)  \n",
       "4                0.086  POINT (60.20940 25.07604)  "
      ]
     },
     "execution_count": 23,
     "metadata": {},
     "output_type": "execute_result"
    }
   ],
   "source": [
    "gdf = gpd.GeoDataFrame(df, geometry=gpd.points_from_xy(df.shape_pt_lat, df.shape_pt_lon))\n",
    "gdf.head()"
   ]
  },
  {
   "cell_type": "code",
   "execution_count": 24,
   "metadata": {},
   "outputs": [
    {
     "data": {
      "text/plain": [
       "<matplotlib.axes._subplots.AxesSubplot at 0x7f2c7c79c400>"
      ]
     },
     "execution_count": 24,
     "metadata": {},
     "output_type": "execute_result"
    },
    {
     "data": {
      "image/png": "[encoded data removed]",
      "text/plain": [
       "<Figure size 432x288 with 2 Axes>"
      ]
     },
     "metadata": {
      "needs_background": "light"
     },
     "output_type": "display_data"
    }
   ],
   "source": [
    "gdf.plot(column='shape_dist_traveled', legend=True)"
   ]
  },
  {
   "cell_type": "markdown",
   "metadata": {},
   "source": [
    "## Fetching data directly from HSL"
   ]
  },
  {
   "cell_type": "code",
   "execution_count": 67,
   "metadata": {},
   "outputs": [
    {
     "data": {
      "text/plain": [
       "<Response [200]>"
      ]
     },
     "execution_count": 67,
     "metadata": {},
     "output_type": "execute_result"
    }
   ],
   "source": [
    "r = requests.get('http://dev.hsl.fi/gtfs/hsl.zip')\n",
    "r"
   ]
  },
  {
   "cell_type": "code",
   "execution_count": 78,
   "metadata": {},
   "outputs": [
    {
     "data": {
      "text/plain": [
       "['agency.txt',\n",
       " 'calendar.txt',\n",
       " 'calendar_dates.txt',\n",
       " 'call_line_phone_numbers.txt',\n",
       " 'fare_attributes.txt',\n",
       " 'fare_rules.txt',\n",
       " 'feed_info.txt',\n",
       " 'routes.txt',\n",
       " 'shapes.txt',\n",
       " 'stops.txt',\n",
       " 'stop_times.txt',\n",
       " 'transfers.txt',\n",
       " 'translations.txt',\n",
       " 'trips.txt']"
      ]
     },
     "execution_count": 78,
     "metadata": {},
     "output_type": "execute_result"
    }
   ],
   "source": [
    "gtfs_zip = ZipFile(BytesIO(r.content))\n",
    "gtfs_zip.namelist()"
   ]
  },
  {
   "cell_type": "code",
   "execution_count": 79,
   "metadata": {},
   "outputs": [
    {
     "data": {
      "text/html": [
       "<div>\n",
       "<style scoped>\n",
       "    .dataframe tbody tr th:only-of-type {\n",
       "        vertical-align: middle;\n",
       "    }\n",
       "\n",
       "    .dataframe tbody tr th {\n",
       "        vertical-align: top;\n",
       "    }\n",
       "\n",
       "    .dataframe thead th {\n",
       "        text-align: right;\n",
       "    }\n",
       "</style>\n",
       "<table border=\"1\" class=\"dataframe\">\n",
       "  <thead>\n",
       "    <tr style=\"text-align: right;\">\n",
       "      <th></th>\n",
       "      <th>shape_id</th>\n",
       "      <th>shape_pt_lat</th>\n",
       "      <th>shape_pt_lon</th>\n",
       "      <th>shape_pt_sequence</th>\n",
       "      <th>shape_dist_traveled</th>\n",
       "    </tr>\n",
       "  </thead>\n",
       "  <tbody>\n",
       "    <tr>\n",
       "      <th>0</th>\n",
       "      <td>1001 5_20200504_1</td>\n",
       "      <td>60.207820</td>\n",
       "      <td>24.968094</td>\n",
       "      <td>1</td>\n",
       "      <td>0.000</td>\n",
       "    </tr>\n",
       "    <tr>\n",
       "      <th>1</th>\n",
       "      <td>1001 5_20200504_1</td>\n",
       "      <td>60.207712</td>\n",
       "      <td>24.968073</td>\n",
       "      <td>2</td>\n",
       "      <td>0.012</td>\n",
       "    </tr>\n",
       "    <tr>\n",
       "      <th>2</th>\n",
       "      <td>1001 5_20200504_1</td>\n",
       "      <td>60.207211</td>\n",
       "      <td>24.967860</td>\n",
       "      <td>3</td>\n",
       "      <td>0.070</td>\n",
       "    </tr>\n",
       "    <tr>\n",
       "      <th>3</th>\n",
       "      <td>1001 5_20200504_1</td>\n",
       "      <td>60.205753</td>\n",
       "      <td>24.967077</td>\n",
       "      <td>4</td>\n",
       "      <td>0.239</td>\n",
       "    </tr>\n",
       "    <tr>\n",
       "      <th>4</th>\n",
       "      <td>1001 5_20200504_1</td>\n",
       "      <td>60.204806</td>\n",
       "      <td>24.966490</td>\n",
       "      <td>5</td>\n",
       "      <td>0.350</td>\n",
       "    </tr>\n",
       "  </tbody>\n",
       "</table>\n",
       "</div>"
      ],
      "text/plain": [
       "            shape_id  shape_pt_lat  shape_pt_lon  shape_pt_sequence  \\\n",
       "0  1001 5_20200504_1     60.207820     24.968094                  1   \n",
       "1  1001 5_20200504_1     60.207712     24.968073                  2   \n",
       "2  1001 5_20200504_1     60.207211     24.967860                  3   \n",
       "3  1001 5_20200504_1     60.205753     24.967077                  4   \n",
       "4  1001 5_20200504_1     60.204806     24.966490                  5   \n",
       "\n",
       "   shape_dist_traveled  \n",
       "0                0.000  \n",
       "1                0.012  \n",
       "2                0.070  \n",
       "3                0.239  \n",
       "4                0.350  "
      ]
     },
     "execution_count": 79,
     "metadata": {},
     "output_type": "execute_result"
    }
   ],
   "source": [
    "df = pd.read_csv(gtfs_zip.open('shapes.txt'))\n",
    "df.head()"
   ]
  },
  {
   "cell_type": "markdown",
   "metadata": {},
   "source": [
    "## Extracting route geometries from csv"
   ]
  },
  {
   "cell_type": "code",
   "execution_count": 59,
   "metadata": {},
   "outputs": [
    {
     "name": "stdout",
     "output_type": "stream",
     "text": [
      "(433046, 5)\n"
     ]
    },
    {
     "data": {
      "text/html": [
       "<div>\n",
       "<style scoped>\n",
       "    .dataframe tbody tr th:only-of-type {\n",
       "        vertical-align: middle;\n",
       "    }\n",
       "\n",
       "    .dataframe tbody tr th {\n",
       "        vertical-align: top;\n",
       "    }\n",
       "\n",
       "    .dataframe thead th {\n",
       "        text-align: right;\n",
       "    }\n",
       "</style>\n",
       "<table border=\"1\" class=\"dataframe\">\n",
       "  <thead>\n",
       "    <tr style=\"text-align: right;\">\n",
       "      <th></th>\n",
       "      <th>shape_id</th>\n",
       "      <th>shape_pt_lat</th>\n",
       "      <th>shape_pt_lon</th>\n",
       "      <th>shape_pt_sequence</th>\n",
       "      <th>shape_dist_traveled</th>\n",
       "    </tr>\n",
       "  </thead>\n",
       "  <tbody>\n",
       "    <tr>\n",
       "      <th>0</th>\n",
       "      <td>1001 5_20200504_1</td>\n",
       "      <td>60.207820</td>\n",
       "      <td>24.968094</td>\n",
       "      <td>1</td>\n",
       "      <td>0.000</td>\n",
       "    </tr>\n",
       "    <tr>\n",
       "      <th>1</th>\n",
       "      <td>1001 5_20200504_1</td>\n",
       "      <td>60.207712</td>\n",
       "      <td>24.968073</td>\n",
       "      <td>2</td>\n",
       "      <td>0.012</td>\n",
       "    </tr>\n",
       "    <tr>\n",
       "      <th>2</th>\n",
       "      <td>1001 5_20200504_1</td>\n",
       "      <td>60.207211</td>\n",
       "      <td>24.967860</td>\n",
       "      <td>3</td>\n",
       "      <td>0.070</td>\n",
       "    </tr>\n",
       "    <tr>\n",
       "      <th>3</th>\n",
       "      <td>1001 5_20200504_1</td>\n",
       "      <td>60.205753</td>\n",
       "      <td>24.967077</td>\n",
       "      <td>4</td>\n",
       "      <td>0.239</td>\n",
       "    </tr>\n",
       "    <tr>\n",
       "      <th>4</th>\n",
       "      <td>1001 5_20200504_1</td>\n",
       "      <td>60.204806</td>\n",
       "      <td>24.966490</td>\n",
       "      <td>5</td>\n",
       "      <td>0.350</td>\n",
       "    </tr>\n",
       "  </tbody>\n",
       "</table>\n",
       "</div>"
      ],
      "text/plain": [
       "            shape_id  shape_pt_lat  shape_pt_lon  shape_pt_sequence  \\\n",
       "0  1001 5_20200504_1     60.207820     24.968094                  1   \n",
       "1  1001 5_20200504_1     60.207712     24.968073                  2   \n",
       "2  1001 5_20200504_1     60.207211     24.967860                  3   \n",
       "3  1001 5_20200504_1     60.205753     24.967077                  4   \n",
       "4  1001 5_20200504_1     60.204806     24.966490                  5   \n",
       "\n",
       "   shape_dist_traveled  \n",
       "0                0.000  \n",
       "1                0.012  \n",
       "2                0.070  \n",
       "3                0.239  \n",
       "4                0.350  "
      ]
     },
     "execution_count": 59,
     "metadata": {},
     "output_type": "execute_result"
    }
   ],
   "source": [
    "data = pd.read_csv('shapes.txt')\n",
    "print(data.shape)\n",
    "data.head()"
   ]
  },
  {
   "cell_type": "code",
   "execution_count": 58,
   "metadata": {},
   "outputs": [
    {
     "name": "stdout",
     "output_type": "stream",
     "text": [
      "(1411, 5)\n"
     ]
    },
    {
     "data": {
      "text/html": [
       "<div>\n",
       "<style scoped>\n",
       "    .dataframe tbody tr th:only-of-type {\n",
       "        vertical-align: middle;\n",
       "    }\n",
       "\n",
       "    .dataframe tbody tr th {\n",
       "        vertical-align: top;\n",
       "    }\n",
       "\n",
       "    .dataframe thead th {\n",
       "        text-align: right;\n",
       "    }\n",
       "</style>\n",
       "<table border=\"1\" class=\"dataframe\">\n",
       "  <thead>\n",
       "    <tr style=\"text-align: right;\">\n",
       "      <th></th>\n",
       "      <th>shape_id</th>\n",
       "      <th>shape_pt_lat</th>\n",
       "      <th>shape_pt_lon</th>\n",
       "      <th>shape_pt_sequence</th>\n",
       "      <th>shape_dist_traveled</th>\n",
       "    </tr>\n",
       "  </thead>\n",
       "  <tbody>\n",
       "    <tr>\n",
       "      <th>0</th>\n",
       "      <td>2550_20200408_1</td>\n",
       "      <td>60.209787</td>\n",
       "      <td>25.077401</td>\n",
       "      <td>1</td>\n",
       "      <td>0.000</td>\n",
       "    </tr>\n",
       "    <tr>\n",
       "      <th>1</th>\n",
       "      <td>2550_20200408_1</td>\n",
       "      <td>60.209630</td>\n",
       "      <td>25.076818</td>\n",
       "      <td>2</td>\n",
       "      <td>0.036</td>\n",
       "    </tr>\n",
       "    <tr>\n",
       "      <th>2</th>\n",
       "      <td>2550_20200408_1</td>\n",
       "      <td>60.209586</td>\n",
       "      <td>25.076673</td>\n",
       "      <td>3</td>\n",
       "      <td>0.046</td>\n",
       "    </tr>\n",
       "    <tr>\n",
       "      <th>3</th>\n",
       "      <td>2550_20200408_1</td>\n",
       "      <td>60.209482</td>\n",
       "      <td>25.076290</td>\n",
       "      <td>4</td>\n",
       "      <td>0.070</td>\n",
       "    </tr>\n",
       "    <tr>\n",
       "      <th>4</th>\n",
       "      <td>2550_20200408_1</td>\n",
       "      <td>60.209403</td>\n",
       "      <td>25.076035</td>\n",
       "      <td>5</td>\n",
       "      <td>0.086</td>\n",
       "    </tr>\n",
       "  </tbody>\n",
       "</table>\n",
       "</div>"
      ],
      "text/plain": [
       "          shape_id  shape_pt_lat  shape_pt_lon  shape_pt_sequence  \\\n",
       "0  2550_20200408_1     60.209787     25.077401                  1   \n",
       "1  2550_20200408_1     60.209630     25.076818                  2   \n",
       "2  2550_20200408_1     60.209586     25.076673                  3   \n",
       "3  2550_20200408_1     60.209482     25.076290                  4   \n",
       "4  2550_20200408_1     60.209403     25.076035                  5   \n",
       "\n",
       "   shape_dist_traveled  \n",
       "0                0.000  \n",
       "1                0.036  \n",
       "2                0.046  \n",
       "3                0.070  \n",
       "4                0.086  "
      ]
     },
     "execution_count": 58,
     "metadata": {},
     "output_type": "execute_result"
    }
   ],
   "source": [
    "data = pd.read_csv('shape2.txt')\n",
    "print(data.shape)\n",
    "data.head()"
   ]
  },
  {
   "cell_type": "code",
   "execution_count": 64,
   "metadata": {},
   "outputs": [
    {
     "data": {
      "text/plain": [
       "shape_id\n",
       "1001 5_20200504_1    LINESTRING (60.20782 24.968094, 60.207712 24.9...\n",
       "1001 6_20200504_2    LINESTRING (60.20782 24.968094, 60.207712 24.9...\n",
       "1001 7_20200302_2    LINESTRING (60.18201999999999 24.927002, 60.18...\n",
       "1001 9_20200504_1    LINESTRING (60.18205699999999 24.928194, 60.18...\n",
       "1001H5_20200504_2    LINESTRING (60.21654399999999 24.954568, 60.21...\n",
       "Name: geometry, dtype: object"
      ]
     },
     "execution_count": 64,
     "metadata": {},
     "output_type": "execute_result"
    }
   ],
   "source": [
    "geodata = gpd.GeoDataFrame(data, geometry=gpd.points_from_xy(data.shape_pt_lat, data.shape_pt_lon))\n",
    "geodata2 = geodata.groupby(['shape_id'])['geometry'].apply(lambda x: LineString(x.tolist()))\n",
    "geodata2.head()"
   ]
  }
 ],
 "metadata": {
  "kernelspec": {
   "display_name": "Python 3",
   "language": "python",
   "name": "python3"
  },
  "language_info": {
   "codemirror_mode": {
    "name": "ipython",
    "version": 3
   },
   "file_extension": ".py",
   "mimetype": "text/x-python",
   "name": "python",
   "nbconvert_exporter": "python",
   "pygments_lexer": "ipython3",
   "version": "3.8.2"
  }
 },
 "nbformat": 4,
 "nbformat_minor": 4
}
